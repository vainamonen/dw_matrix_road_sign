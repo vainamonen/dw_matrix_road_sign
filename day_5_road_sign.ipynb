{
  "nbformat": 4,
  "nbformat_minor": 0,
  "metadata": {
    "colab": {
      "name": "day_5_road_sign.ipynb",
      "provenance": [],
      "authorship_tag": "ABX9TyOE7R2OdPJR3+e+PutMVYBh",
      "include_colab_link": true
    },
    "kernelspec": {
      "name": "python3",
      "display_name": "Python 3"
    },
    "accelerator": "GPU"
  },
  "cells": [
    {
      "cell_type": "markdown",
      "metadata": {
        "id": "view-in-github",
        "colab_type": "text"
      },
      "source": [
        "<a href=\"https://colab.research.google.com/github/vainamonen/dw_matrix_road_sign/blob/master/day_5_road_sign.ipynb\" target=\"_parent\"><img src=\"https://colab.research.google.com/assets/colab-badge.svg\" alt=\"Open In Colab\"/></a>"
      ]
    },
    {
      "cell_type": "code",
      "metadata": {
        "id": "6uPfIjNcLu92",
        "colab_type": "code",
        "colab": {
          "base_uri": "https://localhost:8080/",
          "height": 124
        },
        "outputId": "b86ef39e-e48c-41ed-d6fe-21983285076d"
      },
      "source": [
        "from google.colab import drive\n",
        "drive.mount('/content/drive')"
      ],
      "execution_count": 2,
      "outputs": [
        {
          "output_type": "stream",
          "text": [
            "Go to this URL in a browser: https://accounts.google.com/o/oauth2/auth?client_id=947318989803-6bn6qk8qdgf4n4g3pfee6491hc0brc4i.apps.googleusercontent.com&redirect_uri=urn%3aietf%3awg%3aoauth%3a2.0%3aoob&response_type=code&scope=email%20https%3a%2f%2fwww.googleapis.com%2fauth%2fdocs.test%20https%3a%2f%2fwww.googleapis.com%2fauth%2fdrive%20https%3a%2f%2fwww.googleapis.com%2fauth%2fdrive.photos.readonly%20https%3a%2f%2fwww.googleapis.com%2fauth%2fpeopleapi.readonly\n",
            "\n",
            "Enter your authorization code:\n",
            "··········\n",
            "Mounted at /content/drive\n"
          ],
          "name": "stdout"
        }
      ]
    },
    {
      "cell_type": "code",
      "metadata": {
        "id": "Iflm32NULi7h",
        "colab_type": "code",
        "colab": {
          "base_uri": "https://localhost:8080/",
          "height": 35
        },
        "outputId": "f5defcac-dbc4-4acb-e21d-48582a94b5cd"
      },
      "source": [
        "cd /content/drive/My Drive/Colab Notebooks/matrix/matrix_three"
      ],
      "execution_count": 3,
      "outputs": [
        {
          "output_type": "stream",
          "text": [
            "/content/drive/My Drive/Colab Notebooks/matrix/matrix_three\n"
          ],
          "name": "stdout"
        }
      ]
    },
    {
      "cell_type": "code",
      "metadata": {
        "id": "mIzyq7WrL-JQ",
        "colab_type": "code",
        "colab": {
          "base_uri": "https://localhost:8080/",
          "height": 35
        },
        "outputId": "0272890a-92be-41b1-abe3-7c2468810ec4"
      },
      "source": [
        "ls data/"
      ],
      "execution_count": 4,
      "outputs": [
        {
          "output_type": "stream",
          "text": [
            "\u001b[0m\u001b[01;34mlogs\u001b[0m/  signnames.csv  test.p  train.p\n"
          ],
          "name": "stdout"
        }
      ]
    },
    {
      "cell_type": "code",
      "metadata": {
        "id": "iCMFxVhrMMCT",
        "colab_type": "code",
        "colab": {
          "base_uri": "https://localhost:8080/",
          "height": 173
        },
        "outputId": "afec2ac8-8daa-4a02-9f29-145a58db42f1"
      },
      "source": [
        "!pip install hyperopt"
      ],
      "execution_count": 5,
      "outputs": [
        {
          "output_type": "stream",
          "text": [
            "Requirement already satisfied: hyperopt in /usr/local/lib/python3.6/dist-packages (0.1.2)\n",
            "Requirement already satisfied: numpy in /usr/local/lib/python3.6/dist-packages (from hyperopt) (1.18.2)\n",
            "Requirement already satisfied: pymongo in /usr/local/lib/python3.6/dist-packages (from hyperopt) (3.10.1)\n",
            "Requirement already satisfied: networkx in /usr/local/lib/python3.6/dist-packages (from hyperopt) (2.4)\n",
            "Requirement already satisfied: future in /usr/local/lib/python3.6/dist-packages (from hyperopt) (0.16.0)\n",
            "Requirement already satisfied: tqdm in /usr/local/lib/python3.6/dist-packages (from hyperopt) (4.38.0)\n",
            "Requirement already satisfied: scipy in /usr/local/lib/python3.6/dist-packages (from hyperopt) (1.4.1)\n",
            "Requirement already satisfied: six in /usr/local/lib/python3.6/dist-packages (from hyperopt) (1.12.0)\n",
            "Requirement already satisfied: decorator>=4.3.0 in /usr/local/lib/python3.6/dist-packages (from networkx->hyperopt) (4.4.2)\n"
          ],
          "name": "stdout"
        }
      ]
    },
    {
      "cell_type": "code",
      "metadata": {
        "id": "EcktcFytMUzh",
        "colab_type": "code",
        "colab": {}
      },
      "source": [
        "import pandas as pd\n",
        "import numpy as np\n",
        "import os\n",
        "import datetime\n",
        "\n",
        "import tensorflow as tf\n",
        "from tensorflow.keras.models import Sequential\n",
        "from tensorflow.keras.layers import Conv2D, MaxPool2D, Dense, Flatten, Dropout\n",
        "from tensorflow.keras.utils import to_categorical\n",
        "\n",
        "%load_ext tensorboard\n",
        "\n",
        "import matplotlib.pyplot as plt\n",
        "from skimage import color, exposure\n",
        "\n",
        "from sklearn.metrics import accuracy_score\n",
        "\n",
        "from hyperopt import hp, STATUS_OK, tpe, Trials, fmin"
      ],
      "execution_count": 0,
      "outputs": []
    },
    {
      "cell_type": "code",
      "metadata": {
        "id": "Friu2QK9MgO5",
        "colab_type": "code",
        "colab": {}
      },
      "source": [
        "train = pd.read_pickle('data/train.p')\n",
        "test = pd.read_pickle('data/test.p')\n",
        "\n",
        "X_train, y_train = train['features'], train['labels']\n",
        "X_test, y_test = test['features'], test['labels']"
      ],
      "execution_count": 0,
      "outputs": []
    },
    {
      "cell_type": "code",
      "metadata": {
        "id": "6cn9ZBCdMzEa",
        "colab_type": "code",
        "colab": {}
      },
      "source": [
        "if y_train.ndim == 1: y_train = to_categorical(y_train)\n",
        "if y_test.ndim == 1: y_test = to_categorical(y_test)"
      ],
      "execution_count": 0,
      "outputs": []
    },
    {
      "cell_type": "code",
      "metadata": {
        "id": "MpJO0YN8Mzfh",
        "colab_type": "code",
        "colab": {}
      },
      "source": [
        "input_shape = X_train.shape[1:]\n",
        "num_classes = y_train.shape[1]"
      ],
      "execution_count": 0,
      "outputs": []
    },
    {
      "cell_type": "code",
      "metadata": {
        "id": "yi5davOYM6Zi",
        "colab_type": "code",
        "colab": {}
      },
      "source": [
        "def train_model(model, X_train, y_train, params_fit={}):\n",
        "  model.compile(loss='categorical_crossentropy', optimizer='Adam', metrics=['accuracy'])\n",
        "\n",
        "  logdir = os.path.join(\"logs\", datetime.datetime.now().strftime(\"%Y%m%d-%H%M%S\"))\n",
        "  tensorboard_callback = tf.keras.callbacks.TensorBoard(logdir, histogram_freq=1)\n",
        "\n",
        "  model.fit(\n",
        "    X_train, \n",
        "    y_train,\n",
        "    batch_size=params_fit.get('batch_size', 128),\n",
        "    epochs=params_fit.get('epochs', 5),\n",
        "    verbose=params_fit.get('verbose', 1),\n",
        "    validation_data=params_fit.get('validation_data', (X_train, y_train)),\n",
        "    callbacks= [tensorboard_callback]\n",
        "  )\n",
        "\n",
        "  return model"
      ],
      "execution_count": 0,
      "outputs": []
    },
    {
      "cell_type": "code",
      "metadata": {
        "id": "t5mqHQ5JNBzK",
        "colab_type": "code",
        "colab": {}
      },
      "source": [
        "def predict(model_trained, X_test, y_test, scoring=accuracy_score):\n",
        "    \n",
        "    y_test_norm = np.argmax(y_test, axis=1)\n",
        "\n",
        "    y_pred_prob = model_trained.predict(X_test)\n",
        "    y_pred = np.argmax(y_pred_prob, axis=1)\n",
        "\n",
        "    return scoring(y_test_norm, y_pred)"
      ],
      "execution_count": 0,
      "outputs": []
    },
    {
      "cell_type": "code",
      "metadata": {
        "id": "rwNtgEMfNbz5",
        "colab_type": "code",
        "colab": {}
      },
      "source": [
        "def train_and_predict(model):\n",
        "  model_trained = train_model(model, X_train, y_train)\n",
        "  return predict(model_trained, X_test, y_test)"
      ],
      "execution_count": 0,
      "outputs": []
    },
    {
      "cell_type": "code",
      "metadata": {
        "id": "jSsMBCUkNNL3",
        "colab_type": "code",
        "colab": {}
      },
      "source": [
        "def get_cnn_v5(input_shape, num_classes):\n",
        "  return Sequential([\n",
        "    Conv2D(filters=32, kernel_size=(3,3), activation='relu', input_shape=input_shape),\n",
        "    Conv2D(filters=32, kernel_size=(3,3), activation='relu', padding='same'),\n",
        "    MaxPool2D(),\n",
        "    Dropout(0.3),\n",
        "\n",
        "    Conv2D(filters=64, kernel_size=(3,3), activation='relu', padding='same'),\n",
        "    Conv2D(filters=64, kernel_size=(3,3), activation='relu'),\n",
        "    MaxPool2D(),\n",
        "    Dropout(0.3),\n",
        "\n",
        "    Conv2D(filters=64, kernel_size=(3,3), activation='relu', padding='same'),\n",
        "    Conv2D(filters=64, kernel_size=(3,3), activation='relu'),\n",
        "    MaxPool2D(),\n",
        "    Dropout(0.3),\n",
        "\n",
        "    Flatten(),\n",
        "\n",
        "    Dense(1024, activation='relu'),\n",
        "    Dropout(0.3),\n",
        "\n",
        "    Dense(1024, activation='relu'),\n",
        "    Dropout(0.3),\n",
        "\n",
        "    Dense(num_classes, activation='softmax'),\n",
        "])"
      ],
      "execution_count": 0,
      "outputs": []
    },
    {
      "cell_type": "code",
      "metadata": {
        "id": "eOOysSaiNhgE",
        "colab_type": "code",
        "colab": {
          "base_uri": "https://localhost:8080/",
          "height": 208
        },
        "outputId": "67f708c2-e4b6-4971-b920-ad383579a434"
      },
      "source": [
        "train_and_predict(get_cnn_v5(input_shape, num_classes))"
      ],
      "execution_count": 17,
      "outputs": [
        {
          "output_type": "stream",
          "text": [
            "Epoch 1/5\n",
            "272/272 [==============================] - 5s 20ms/step - loss: 2.5118 - accuracy: 0.2941 - val_loss: 1.0381 - val_accuracy: 0.6695\n",
            "Epoch 2/5\n",
            "272/272 [==============================] - 5s 17ms/step - loss: 0.8879 - accuracy: 0.7149 - val_loss: 0.2625 - val_accuracy: 0.9205\n",
            "Epoch 3/5\n",
            "272/272 [==============================] - 5s 17ms/step - loss: 0.4276 - accuracy: 0.8651 - val_loss: 0.0875 - val_accuracy: 0.9749\n",
            "Epoch 4/5\n",
            "272/272 [==============================] - 5s 17ms/step - loss: 0.2719 - accuracy: 0.9162 - val_loss: 0.0693 - val_accuracy: 0.9788\n",
            "Epoch 5/5\n",
            "272/272 [==============================] - 5s 17ms/step - loss: 0.1990 - accuracy: 0.9393 - val_loss: 0.0400 - val_accuracy: 0.9883\n"
          ],
          "name": "stdout"
        },
        {
          "output_type": "execute_result",
          "data": {
            "text/plain": [
              "0.97437641723356"
            ]
          },
          "metadata": {
            "tags": []
          },
          "execution_count": 17
        }
      ]
    },
    {
      "cell_type": "code",
      "metadata": {
        "id": "pW5Y8Ut1QBxv",
        "colab_type": "code",
        "colab": {}
      },
      "source": [
        "def get_model(params):\n",
        "  return Sequential([\n",
        "    Conv2D(filters=32, kernel_size=(3,3), activation='relu', input_shape=input_shape),\n",
        "    Conv2D(filters=32, kernel_size=(3,3), activation='relu', padding='same'),\n",
        "    MaxPool2D(),\n",
        "    Dropout(params['dropout_cnn_block_one']),\n",
        "\n",
        "    Conv2D(filters=64, kernel_size=(3,3), activation='relu', padding='same'),\n",
        "    Conv2D(filters=64, kernel_size=(3,3), activation='relu'),\n",
        "    MaxPool2D(),\n",
        "    Dropout(params['dropout_cnn_block_two']),\n",
        "\n",
        "    Conv2D(filters=128, kernel_size=(3,3), activation='relu', padding='same'),\n",
        "    Conv2D(filters=128, kernel_size=(3,3), activation='relu'),\n",
        "    MaxPool2D(),\n",
        "    Dropout(params['dropout_cnn_block_three']),\n",
        "\n",
        "    Flatten(),\n",
        "\n",
        "    Dense(1024, activation='relu'),\n",
        "    Dropout(params['dropout_dense_block_one']),\n",
        "\n",
        "    Dense(1024, activation='relu'),\n",
        "    Dropout(params['dropout_dense_block_two']),\n",
        "\n",
        "    Dense(num_classes, activation='softmax'),\n",
        "])"
      ],
      "execution_count": 0,
      "outputs": []
    },
    {
      "cell_type": "code",
      "metadata": {
        "id": "YK0Gd8VWOCot",
        "colab_type": "code",
        "colab": {}
      },
      "source": [
        "def func_obj(params):\n",
        "  model = get_model(params)\n",
        "  model.compile(loss='categorical_crossentropy', optimizer='Adam', metrics=['accuracy'])\n",
        "\n",
        "  model.fit(\n",
        "      X_train,\n",
        "      y_train,\n",
        "      batch_size = int(params.get('batch_size', 128)),\n",
        "      epochs = 5,\n",
        "      verbose = 0\n",
        "  )\n",
        "\n",
        "  score = model.evaluate(X_test, y_test, verbose = 0)\n",
        "  accuracy = score[1]\n",
        "  print(params, 'accuracy={}'.format(accuracy))\n",
        "\n",
        "  return {'loss': -accuracy, 'status': STATUS_OK, 'model': model}"
      ],
      "execution_count": 0,
      "outputs": []
    },
    {
      "cell_type": "code",
      "metadata": {
        "id": "dO0VVGpuPGtM",
        "colab_type": "code",
        "colab": {
          "base_uri": "https://localhost:8080/",
          "height": 1000
        },
        "outputId": "581101f8-ab63-4fc6-8111-89311bbd263a"
      },
      "source": [
        "space = {\n",
        "    'batch_size': hp.quniform('batch_size', 100, 200, 10),\n",
        "\n",
        "    'dropout_cnn_block_one': hp.uniform('dropout_cnn_block_one', 0.3, 0.5),\n",
        "    'dropout_cnn_block_two': hp.uniform('dropout_cnn_block_two', 0.3, 0.5),\n",
        "    'dropout_cnn_block_three': hp.uniform('dropout_cnn_block_three', 0.3, 0.5),\n",
        "\n",
        "    'dropout_dense_block_one': hp.uniform('dropout_dense_block_one', 0.3, 0.7),\n",
        "    'dropout_dense_block_two': hp.uniform('dropout_dense_block_two', 0.3, 0.7),\n",
        "}\n",
        "\n",
        "best = fmin(\n",
        "    func_obj,\n",
        "    space,\n",
        "    tpe.suggest,\n",
        "    30,\n",
        "    Trials()\n",
        ")"
      ],
      "execution_count": 15,
      "outputs": [
        {
          "output_type": "stream",
          "text": [
            "{'batch_size': 170.0, 'dropout_cnn_block_one': 0.4791640385788194, 'dropout_cnn_block_three': 0.44694598812806796, 'dropout_cnn_block_two': 0.4318330270230376, 'dropout_dense_block_one': 0.5543529671064471, 'dropout_dense_block_two': 0.40340761292972427}\n",
            "accuracy=0.8945578336715698\n",
            "{'batch_size': 140.0, 'dropout_cnn_block_one': 0.443593951586454, 'dropout_cnn_block_three': 0.4543603268482915, 'dropout_cnn_block_two': 0.465800966034907, 'dropout_dense_block_one': 0.45141950291421223, 'dropout_dense_block_two': 0.631949145275972}\n",
            "accuracy=0.7863945364952087\n",
            "{'batch_size': 160.0, 'dropout_cnn_block_one': 0.40305359498522, 'dropout_cnn_block_three': 0.40518038552671204, 'dropout_cnn_block_two': 0.45185136932477327, 'dropout_dense_block_one': 0.6707687299852798, 'dropout_dense_block_two': 0.6628702654648684}\n",
            "accuracy=0.6217687129974365\n",
            "{'batch_size': 190.0, 'dropout_cnn_block_one': 0.3769410227221897, 'dropout_cnn_block_three': 0.34568352104012096, 'dropout_cnn_block_two': 0.4455633302991946, 'dropout_dense_block_one': 0.518423381225668, 'dropout_dense_block_two': 0.6611300612708931}\n",
            "accuracy=0.9068027138710022\n",
            "{'batch_size': 190.0, 'dropout_cnn_block_one': 0.32983905352042153, 'dropout_cnn_block_three': 0.3050672545144734, 'dropout_cnn_block_two': 0.30908515778593787, 'dropout_dense_block_one': 0.32902426362953113, 'dropout_dense_block_two': 0.4733914619887212}\n",
            "accuracy=0.9668934345245361\n",
            "{'batch_size': 160.0, 'dropout_cnn_block_one': 0.3683817609701343, 'dropout_cnn_block_three': 0.46102559133285137, 'dropout_cnn_block_two': 0.310210117922591, 'dropout_dense_block_one': 0.6829633482979387, 'dropout_dense_block_two': 0.6142912544636923}\n",
            "accuracy=0.8396825194358826\n",
            "{'batch_size': 190.0, 'dropout_cnn_block_one': 0.4663823077100166, 'dropout_cnn_block_three': 0.48496700159654926, 'dropout_cnn_block_two': 0.3242690910764395, 'dropout_dense_block_one': 0.3353197599710626, 'dropout_dense_block_two': 0.6269087959971766}\n",
            "accuracy=0.9115646481513977\n",
            "{'batch_size': 150.0, 'dropout_cnn_block_one': 0.33873252453817393, 'dropout_cnn_block_three': 0.3830148489312208, 'dropout_cnn_block_two': 0.39540783432109977, 'dropout_dense_block_one': 0.32847912327795165, 'dropout_dense_block_two': 0.6090632167221784}\n",
            "accuracy=0.9603174328804016\n",
            "{'batch_size': 140.0, 'dropout_cnn_block_one': 0.3405358812202805, 'dropout_cnn_block_three': 0.31883644603762507, 'dropout_cnn_block_two': 0.4329065962462399, 'dropout_dense_block_one': 0.6512680344541324, 'dropout_dense_block_two': 0.5850946560319141}\n",
            "accuracy=0.9521542191505432\n",
            "{'batch_size': 180.0, 'dropout_cnn_block_one': 0.3168029578221451, 'dropout_cnn_block_three': 0.47296688007264515, 'dropout_cnn_block_two': 0.4714052373085937, 'dropout_dense_block_one': 0.3446853518487453, 'dropout_dense_block_two': 0.5284534556822869}\n",
            "accuracy=0.939002275466919\n",
            "{'batch_size': 140.0, 'dropout_cnn_block_one': 0.32540386036329205, 'dropout_cnn_block_three': 0.35649317201903796, 'dropout_cnn_block_two': 0.4204574460450672, 'dropout_dense_block_one': 0.4455866285259411, 'dropout_dense_block_two': 0.42616787096451625}\n",
            "accuracy=0.934920608997345\n",
            "{'batch_size': 160.0, 'dropout_cnn_block_one': 0.4959695996881039, 'dropout_cnn_block_three': 0.4209908644493702, 'dropout_cnn_block_two': 0.3089747476981798, 'dropout_dense_block_one': 0.5927494314108087, 'dropout_dense_block_two': 0.5561842664244891}\n",
            "accuracy=0.8335601091384888\n",
            "{'batch_size': 180.0, 'dropout_cnn_block_one': 0.4983460281590727, 'dropout_cnn_block_three': 0.30249682047113663, 'dropout_cnn_block_two': 0.3357730378432408, 'dropout_dense_block_one': 0.40326546970682964, 'dropout_dense_block_two': 0.44738178856630134}\n",
            "accuracy=0.8904761672019958\n",
            "{'batch_size': 190.0, 'dropout_cnn_block_one': 0.3217646071268478, 'dropout_cnn_block_three': 0.357516902476693, 'dropout_cnn_block_two': 0.32078356175202916, 'dropout_dense_block_one': 0.4291954055593608, 'dropout_dense_block_two': 0.4171434915525673}\n",
            "accuracy=0.958730161190033\n",
            "{'batch_size': 110.0, 'dropout_cnn_block_one': 0.304075379378618, 'dropout_cnn_block_three': 0.38704126200208916, 'dropout_cnn_block_two': 0.4651476839997337, 'dropout_dense_block_one': 0.33073762527968376, 'dropout_dense_block_two': 0.3646379534819637}\n",
            "accuracy=0.9603174328804016\n",
            "{'batch_size': 150.0, 'dropout_cnn_block_one': 0.44895399590612994, 'dropout_cnn_block_three': 0.35527511744464396, 'dropout_cnn_block_two': 0.4742194886294414, 'dropout_dense_block_one': 0.5286553882981143, 'dropout_dense_block_two': 0.42611192998231745}\n",
            "accuracy=0.8766440153121948\n",
            "{'batch_size': 150.0, 'dropout_cnn_block_one': 0.33854169653652844, 'dropout_cnn_block_three': 0.3090254106204563, 'dropout_cnn_block_two': 0.47064458505012025, 'dropout_dense_block_one': 0.683778924585041, 'dropout_dense_block_two': 0.30713138901407144}\n",
            "accuracy=0.9244897961616516\n",
            "{'batch_size': 110.0, 'dropout_cnn_block_one': 0.3472893936380058, 'dropout_cnn_block_three': 0.3401210322318763, 'dropout_cnn_block_two': 0.4272559549646371, 'dropout_dense_block_one': 0.46028308759686354, 'dropout_dense_block_two': 0.6243811111268808}\n",
            "accuracy=0.9489796161651611\n",
            "{'batch_size': 180.0, 'dropout_cnn_block_one': 0.3641946209590803, 'dropout_cnn_block_three': 0.3557554954752465, 'dropout_cnn_block_two': 0.3485653712083526, 'dropout_dense_block_one': 0.5899822683408316, 'dropout_dense_block_two': 0.690325439640669}\n",
            "accuracy=0.8873015642166138\n",
            "{'batch_size': 170.0, 'dropout_cnn_block_one': 0.4593254234285437, 'dropout_cnn_block_three': 0.3010481846600484, 'dropout_cnn_block_two': 0.3189905401305097, 'dropout_dense_block_one': 0.3852111092429891, 'dropout_dense_block_two': 0.34698805736407223}\n",
            "accuracy=0.9655328989028931\n",
            "{'batch_size': 200.0, 'dropout_cnn_block_one': 0.4087905588751026, 'dropout_cnn_block_three': 0.32605902108219276, 'dropout_cnn_block_two': 0.3610225616159969, 'dropout_dense_block_one': 0.3731649912613574, 'dropout_dense_block_two': 0.48388988018450696}\n",
            "accuracy=0.9614512324333191\n",
            "{'batch_size': 200.0, 'dropout_cnn_block_one': 0.42707235133822374, 'dropout_cnn_block_three': 0.30252914717997426, 'dropout_cnn_block_two': 0.38657746315274377, 'dropout_dense_block_one': 0.3012741457928174, 'dropout_dense_block_two': 0.3255333602025785}\n",
            "accuracy=0.9058957099914551\n",
            "{'batch_size': 170.0, 'dropout_cnn_block_one': 0.4255780431658768, 'dropout_cnn_block_three': 0.3217338428270282, 'dropout_cnn_block_two': 0.37368948486005626, 'dropout_dense_block_one': 0.39190695742857085, 'dropout_dense_block_two': 0.366928253519839}\n",
            "accuracy=0.9331066012382507\n",
            "{'batch_size': 120.0, 'dropout_cnn_block_one': 0.38869779692858003, 'dropout_cnn_block_three': 0.37609993275599096, 'dropout_cnn_block_two': 0.3020264077555401, 'dropout_dense_block_one': 0.48528666685008354, 'dropout_dense_block_two': 0.4919310182714911}\n",
            "accuracy=0.9612244963645935\n",
            "{'batch_size': 170.0, 'dropout_cnn_block_one': 0.46621155757047034, 'dropout_cnn_block_three': 0.4290314399971085, 'dropout_cnn_block_two': 0.347972108303202, 'dropout_dense_block_one': 0.36327564150483677, 'dropout_dense_block_two': 0.34963314383031263}\n",
            "accuracy=0.9185941219329834\n",
            "{'batch_size': 200.0, 'dropout_cnn_block_one': 0.41878749176948693, 'dropout_cnn_block_three': 0.3061637318438061, 'dropout_cnn_block_two': 0.49200395316205453, 'dropout_dense_block_one': 0.3113650721939538, 'dropout_dense_block_two': 0.4582626813013855}\n",
            "accuracy=0.9378684759140015\n",
            "{'batch_size': 190.0, 'dropout_cnn_block_one': 0.4472074188445504, 'dropout_cnn_block_three': 0.3339911799029334, 'dropout_cnn_block_two': 0.33084264125510854, 'dropout_dense_block_one': 0.4108875559336147, 'dropout_dense_block_two': 0.5147587762874647}\n",
            "accuracy=0.9136054515838623\n",
            "{'batch_size': 130.0, 'dropout_cnn_block_one': 0.3916505299006514, 'dropout_cnn_block_three': 0.49866519866466485, 'dropout_cnn_block_two': 0.4084527471811503, 'dropout_dense_block_one': 0.3016741127179553, 'dropout_dense_block_two': 0.38990483202414233}\n",
            "accuracy=0.9455782175064087\n",
            "{'batch_size': 180.0, 'dropout_cnn_block_one': 0.4773614793799732, 'dropout_cnn_block_three': 0.37177777299226034, 'dropout_cnn_block_two': 0.30031332335789435, 'dropout_dense_block_one': 0.36709035158575315, 'dropout_dense_block_two': 0.3031129891136169}\n",
            "accuracy=0.9419501423835754\n",
            "{'batch_size': 170.0, 'dropout_cnn_block_one': 0.4846972941944958, 'dropout_cnn_block_three': 0.39641425569354, 'dropout_cnn_block_two': 0.37007017236998174, 'dropout_dense_block_one': 0.4821787949042037, 'dropout_dense_block_two': 0.5423646999096294}\n",
            "accuracy=0.7727891206741333\n",
            "100%|██████████| 30/30 [05:46<00:00, 11.55s/it, best loss: -0.9668934345245361]\n"
          ],
          "name": "stdout"
        }
      ]
    }
  ]
}